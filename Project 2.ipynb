{
 "cells": [
  {
   "cell_type": "markdown",
   "id": "54dab325-c64f-470c-a470-a03df412ba47",
   "metadata": {},
   "source": [
    "## Project 2\n",
    "C:\\Users\\GMamire\\OneDrive - I-TECH Zimbabwe\\Pictures"
   ]
  },
  {
   "cell_type": "code",
   "execution_count": 1,
   "id": "e5b002be-2165-498f-9677-935f5417cdff",
   "metadata": {},
   "outputs": [],
   "source": [
    "import pandas as pd\n",
    "import numpy as np\n",
    "import matplotlib.pyplot as plt\n",
    "import seaborn as sns"
   ]
  },
  {
   "cell_type": "code",
   "execution_count": 101,
   "id": "22578ad9-13fc-4c12-ad8a-c09f6bf33750",
   "metadata": {},
   "outputs": [],
   "source": [
    "salaries = pd.read_csv('C:/Users/GMamire/OneDrive - I-TECH Zimbabwe/Pictures/Salaries.csv', low_memory=False)"
   ]
  },
  {
   "cell_type": "code",
   "execution_count": 102,
   "id": "f59ec7a4-1a20-4c23-bbc5-d849124697ab",
   "metadata": {},
   "outputs": [
    {
     "data": {
      "text/html": [
       "<div>\n",
       "<style scoped>\n",
       "    .dataframe tbody tr th:only-of-type {\n",
       "        vertical-align: middle;\n",
       "    }\n",
       "\n",
       "    .dataframe tbody tr th {\n",
       "        vertical-align: top;\n",
       "    }\n",
       "\n",
       "    .dataframe thead th {\n",
       "        text-align: right;\n",
       "    }\n",
       "</style>\n",
       "<table border=\"1\" class=\"dataframe\">\n",
       "  <thead>\n",
       "    <tr style=\"text-align: right;\">\n",
       "      <th></th>\n",
       "      <th>Id</th>\n",
       "      <th>EmployeeName</th>\n",
       "      <th>JobTitle</th>\n",
       "      <th>BasePay</th>\n",
       "      <th>OvertimePay</th>\n",
       "      <th>OtherPay</th>\n",
       "      <th>Benefits</th>\n",
       "      <th>TotalPay</th>\n",
       "      <th>TotalPayBenefits</th>\n",
       "      <th>Year</th>\n",
       "      <th>Notes</th>\n",
       "      <th>Agency</th>\n",
       "      <th>Status</th>\n",
       "    </tr>\n",
       "  </thead>\n",
       "  <tbody>\n",
       "    <tr>\n",
       "      <th>0</th>\n",
       "      <td>1</td>\n",
       "      <td>NATHANIEL FORD</td>\n",
       "      <td>GENERAL MANAGER-METROPOLITAN TRANSIT AUTHORITY</td>\n",
       "      <td>167411.18</td>\n",
       "      <td>0.0</td>\n",
       "      <td>400184.25</td>\n",
       "      <td>NaN</td>\n",
       "      <td>567595.43</td>\n",
       "      <td>567595.43</td>\n",
       "      <td>2011</td>\n",
       "      <td>NaN</td>\n",
       "      <td>San Francisco</td>\n",
       "      <td>NaN</td>\n",
       "    </tr>\n",
       "    <tr>\n",
       "      <th>1</th>\n",
       "      <td>2</td>\n",
       "      <td>GARY JIMENEZ</td>\n",
       "      <td>CAPTAIN III (POLICE DEPARTMENT)</td>\n",
       "      <td>155966.02</td>\n",
       "      <td>245131.88</td>\n",
       "      <td>137811.38</td>\n",
       "      <td>NaN</td>\n",
       "      <td>538909.28</td>\n",
       "      <td>538909.28</td>\n",
       "      <td>2011</td>\n",
       "      <td>NaN</td>\n",
       "      <td>San Francisco</td>\n",
       "      <td>NaN</td>\n",
       "    </tr>\n",
       "    <tr>\n",
       "      <th>2</th>\n",
       "      <td>3</td>\n",
       "      <td>ALBERT PARDINI</td>\n",
       "      <td>CAPTAIN III (POLICE DEPARTMENT)</td>\n",
       "      <td>212739.13</td>\n",
       "      <td>106088.18</td>\n",
       "      <td>16452.6</td>\n",
       "      <td>NaN</td>\n",
       "      <td>335279.91</td>\n",
       "      <td>335279.91</td>\n",
       "      <td>2011</td>\n",
       "      <td>NaN</td>\n",
       "      <td>San Francisco</td>\n",
       "      <td>NaN</td>\n",
       "    </tr>\n",
       "  </tbody>\n",
       "</table>\n",
       "</div>"
      ],
      "text/plain": [
       "   Id    EmployeeName                                        JobTitle  \\\n",
       "0   1  NATHANIEL FORD  GENERAL MANAGER-METROPOLITAN TRANSIT AUTHORITY   \n",
       "1   2    GARY JIMENEZ                 CAPTAIN III (POLICE DEPARTMENT)   \n",
       "2   3  ALBERT PARDINI                 CAPTAIN III (POLICE DEPARTMENT)   \n",
       "\n",
       "     BasePay OvertimePay   OtherPay Benefits   TotalPay  TotalPayBenefits  \\\n",
       "0  167411.18         0.0  400184.25      NaN  567595.43         567595.43   \n",
       "1  155966.02   245131.88  137811.38      NaN  538909.28         538909.28   \n",
       "2  212739.13   106088.18    16452.6      NaN  335279.91         335279.91   \n",
       "\n",
       "   Year  Notes         Agency Status  \n",
       "0  2011    NaN  San Francisco    NaN  \n",
       "1  2011    NaN  San Francisco    NaN  \n",
       "2  2011    NaN  San Francisco    NaN  "
      ]
     },
     "execution_count": 102,
     "metadata": {},
     "output_type": "execute_result"
    }
   ],
   "source": [
    "salaries.head(3)"
   ]
  },
  {
   "cell_type": "code",
   "execution_count": 4,
   "id": "73c164e4-4d47-4cd8-9374-1035f7b0d5e4",
   "metadata": {},
   "outputs": [],
   "source": [
    "sal = salaries.copy()"
   ]
  },
  {
   "cell_type": "markdown",
   "id": "16ea4ebb-782f-4fb3-9be4-a6f0e81de1c6",
   "metadata": {},
   "source": [
    "### 5. Check Null values in a dataset"
   ]
  },
  {
   "cell_type": "code",
   "execution_count": 5,
   "id": "bdb7001e-a8c0-4530-920c-be21a2dd9d35",
   "metadata": {},
   "outputs": [
    {
     "data": {
      "text/plain": [
       "Id                       0\n",
       "EmployeeName             0\n",
       "JobTitle                 0\n",
       "BasePay                605\n",
       "OvertimePay              0\n",
       "OtherPay                 0\n",
       "Benefits             36159\n",
       "TotalPay                 0\n",
       "TotalPayBenefits         0\n",
       "Year                     0\n",
       "Notes               148654\n",
       "Agency                   0\n",
       "Status              110535\n",
       "dtype: int64"
      ]
     },
     "execution_count": 5,
     "metadata": {},
     "output_type": "execute_result"
    }
   ],
   "source": [
    "sal.isnull().sum()"
   ]
  },
  {
   "cell_type": "markdown",
   "id": "c7a6b029-52d8-42bf-87a5-8b6e3518fb4d",
   "metadata": {},
   "source": [
    "### 6. Drop Id, Notes, Agency, and Status columns"
   ]
  },
  {
   "cell_type": "code",
   "execution_count": 6,
   "id": "9e980c06-649d-4d87-ba5e-ff42ab93be43",
   "metadata": {},
   "outputs": [],
   "source": [
    "sal.drop(labels=['Id', 'Notes', 'Agency', 'Status'], axis=1, inplace=True)"
   ]
  },
  {
   "cell_type": "code",
   "execution_count": 7,
   "id": "3b48aea6-668d-4afe-a696-1b1ca6357343",
   "metadata": {},
   "outputs": [
    {
     "data": {
      "text/html": [
       "<div>\n",
       "<style scoped>\n",
       "    .dataframe tbody tr th:only-of-type {\n",
       "        vertical-align: middle;\n",
       "    }\n",
       "\n",
       "    .dataframe tbody tr th {\n",
       "        vertical-align: top;\n",
       "    }\n",
       "\n",
       "    .dataframe thead th {\n",
       "        text-align: right;\n",
       "    }\n",
       "</style>\n",
       "<table border=\"1\" class=\"dataframe\">\n",
       "  <thead>\n",
       "    <tr style=\"text-align: right;\">\n",
       "      <th></th>\n",
       "      <th>EmployeeName</th>\n",
       "      <th>JobTitle</th>\n",
       "      <th>BasePay</th>\n",
       "      <th>OvertimePay</th>\n",
       "      <th>OtherPay</th>\n",
       "      <th>Benefits</th>\n",
       "      <th>TotalPay</th>\n",
       "      <th>TotalPayBenefits</th>\n",
       "      <th>Year</th>\n",
       "    </tr>\n",
       "  </thead>\n",
       "  <tbody>\n",
       "    <tr>\n",
       "      <th>0</th>\n",
       "      <td>NATHANIEL FORD</td>\n",
       "      <td>GENERAL MANAGER-METROPOLITAN TRANSIT AUTHORITY</td>\n",
       "      <td>167411.18</td>\n",
       "      <td>0.0</td>\n",
       "      <td>400184.25</td>\n",
       "      <td>NaN</td>\n",
       "      <td>567595.43</td>\n",
       "      <td>567595.43</td>\n",
       "      <td>2011</td>\n",
       "    </tr>\n",
       "    <tr>\n",
       "      <th>1</th>\n",
       "      <td>GARY JIMENEZ</td>\n",
       "      <td>CAPTAIN III (POLICE DEPARTMENT)</td>\n",
       "      <td>155966.02</td>\n",
       "      <td>245131.88</td>\n",
       "      <td>137811.38</td>\n",
       "      <td>NaN</td>\n",
       "      <td>538909.28</td>\n",
       "      <td>538909.28</td>\n",
       "      <td>2011</td>\n",
       "    </tr>\n",
       "  </tbody>\n",
       "</table>\n",
       "</div>"
      ],
      "text/plain": [
       "     EmployeeName                                        JobTitle    BasePay  \\\n",
       "0  NATHANIEL FORD  GENERAL MANAGER-METROPOLITAN TRANSIT AUTHORITY  167411.18   \n",
       "1    GARY JIMENEZ                 CAPTAIN III (POLICE DEPARTMENT)  155966.02   \n",
       "\n",
       "  OvertimePay   OtherPay Benefits   TotalPay  TotalPayBenefits  Year  \n",
       "0         0.0  400184.25      NaN  567595.43         567595.43  2011  \n",
       "1   245131.88  137811.38      NaN  538909.28         538909.28  2011  "
      ]
     },
     "execution_count": 7,
     "metadata": {},
     "output_type": "execute_result"
    }
   ],
   "source": [
    "sal.head(2)"
   ]
  },
  {
   "cell_type": "markdown",
   "id": "28a40347-64d4-4c50-b5ad-8aba0d2da287",
   "metadata": {},
   "source": [
    "### 7. Get overall statistics about the dataset"
   ]
  },
  {
   "cell_type": "code",
   "execution_count": 8,
   "id": "c16a328b-60ce-4c23-8172-f0f561454cc6",
   "metadata": {},
   "outputs": [
    {
     "data": {
      "text/html": [
       "<div>\n",
       "<style scoped>\n",
       "    .dataframe tbody tr th:only-of-type {\n",
       "        vertical-align: middle;\n",
       "    }\n",
       "\n",
       "    .dataframe tbody tr th {\n",
       "        vertical-align: top;\n",
       "    }\n",
       "\n",
       "    .dataframe thead th {\n",
       "        text-align: right;\n",
       "    }\n",
       "</style>\n",
       "<table border=\"1\" class=\"dataframe\">\n",
       "  <thead>\n",
       "    <tr style=\"text-align: right;\">\n",
       "      <th></th>\n",
       "      <th>TotalPay</th>\n",
       "      <th>TotalPayBenefits</th>\n",
       "      <th>Year</th>\n",
       "    </tr>\n",
       "  </thead>\n",
       "  <tbody>\n",
       "    <tr>\n",
       "      <th>count</th>\n",
       "      <td>148654.000000</td>\n",
       "      <td>148654.000000</td>\n",
       "      <td>148654.000000</td>\n",
       "    </tr>\n",
       "    <tr>\n",
       "      <th>mean</th>\n",
       "      <td>74768.321972</td>\n",
       "      <td>93692.554811</td>\n",
       "      <td>2012.522643</td>\n",
       "    </tr>\n",
       "    <tr>\n",
       "      <th>std</th>\n",
       "      <td>50517.005274</td>\n",
       "      <td>62793.533483</td>\n",
       "      <td>1.117538</td>\n",
       "    </tr>\n",
       "    <tr>\n",
       "      <th>min</th>\n",
       "      <td>-618.130000</td>\n",
       "      <td>-618.130000</td>\n",
       "      <td>2011.000000</td>\n",
       "    </tr>\n",
       "    <tr>\n",
       "      <th>25%</th>\n",
       "      <td>36168.995000</td>\n",
       "      <td>44065.650000</td>\n",
       "      <td>2012.000000</td>\n",
       "    </tr>\n",
       "    <tr>\n",
       "      <th>50%</th>\n",
       "      <td>71426.610000</td>\n",
       "      <td>92404.090000</td>\n",
       "      <td>2013.000000</td>\n",
       "    </tr>\n",
       "    <tr>\n",
       "      <th>75%</th>\n",
       "      <td>105839.135000</td>\n",
       "      <td>132876.450000</td>\n",
       "      <td>2014.000000</td>\n",
       "    </tr>\n",
       "    <tr>\n",
       "      <th>max</th>\n",
       "      <td>567595.430000</td>\n",
       "      <td>567595.430000</td>\n",
       "      <td>2014.000000</td>\n",
       "    </tr>\n",
       "  </tbody>\n",
       "</table>\n",
       "</div>"
      ],
      "text/plain": [
       "            TotalPay  TotalPayBenefits           Year\n",
       "count  148654.000000     148654.000000  148654.000000\n",
       "mean    74768.321972      93692.554811    2012.522643\n",
       "std     50517.005274      62793.533483       1.117538\n",
       "min      -618.130000       -618.130000    2011.000000\n",
       "25%     36168.995000      44065.650000    2012.000000\n",
       "50%     71426.610000      92404.090000    2013.000000\n",
       "75%    105839.135000     132876.450000    2014.000000\n",
       "max    567595.430000     567595.430000    2014.000000"
      ]
     },
     "execution_count": 8,
     "metadata": {},
     "output_type": "execute_result"
    }
   ],
   "source": [
    "sal.describe()"
   ]
  },
  {
   "cell_type": "code",
   "execution_count": 9,
   "id": "e791c2f5-4bf5-4c05-91a4-ca55ba70db6d",
   "metadata": {},
   "outputs": [
    {
     "data": {
      "text/html": [
       "<div>\n",
       "<style scoped>\n",
       "    .dataframe tbody tr th:only-of-type {\n",
       "        vertical-align: middle;\n",
       "    }\n",
       "\n",
       "    .dataframe tbody tr th {\n",
       "        vertical-align: top;\n",
       "    }\n",
       "\n",
       "    .dataframe thead th {\n",
       "        text-align: right;\n",
       "    }\n",
       "</style>\n",
       "<table border=\"1\" class=\"dataframe\">\n",
       "  <thead>\n",
       "    <tr style=\"text-align: right;\">\n",
       "      <th></th>\n",
       "      <th>EmployeeName</th>\n",
       "      <th>JobTitle</th>\n",
       "      <th>BasePay</th>\n",
       "      <th>OvertimePay</th>\n",
       "      <th>OtherPay</th>\n",
       "      <th>Benefits</th>\n",
       "      <th>TotalPay</th>\n",
       "      <th>TotalPayBenefits</th>\n",
       "      <th>Year</th>\n",
       "    </tr>\n",
       "  </thead>\n",
       "  <tbody>\n",
       "    <tr>\n",
       "      <th>count</th>\n",
       "      <td>148654</td>\n",
       "      <td>148654</td>\n",
       "      <td>148049</td>\n",
       "      <td>148654</td>\n",
       "      <td>148654</td>\n",
       "      <td>112495</td>\n",
       "      <td>148654.000000</td>\n",
       "      <td>148654.000000</td>\n",
       "      <td>148654.000000</td>\n",
       "    </tr>\n",
       "    <tr>\n",
       "      <th>unique</th>\n",
       "      <td>110811</td>\n",
       "      <td>2159</td>\n",
       "      <td>109724</td>\n",
       "      <td>66162</td>\n",
       "      <td>84243</td>\n",
       "      <td>98647</td>\n",
       "      <td>NaN</td>\n",
       "      <td>NaN</td>\n",
       "      <td>NaN</td>\n",
       "    </tr>\n",
       "    <tr>\n",
       "      <th>top</th>\n",
       "      <td>Kevin Lee</td>\n",
       "      <td>Transit Operator</td>\n",
       "      <td>0.0</td>\n",
       "      <td>0.0</td>\n",
       "      <td>0.0</td>\n",
       "      <td>0.0</td>\n",
       "      <td>NaN</td>\n",
       "      <td>NaN</td>\n",
       "      <td>NaN</td>\n",
       "    </tr>\n",
       "    <tr>\n",
       "      <th>freq</th>\n",
       "      <td>13</td>\n",
       "      <td>7036</td>\n",
       "      <td>872</td>\n",
       "      <td>57868</td>\n",
       "      <td>30068</td>\n",
       "      <td>1024</td>\n",
       "      <td>NaN</td>\n",
       "      <td>NaN</td>\n",
       "      <td>NaN</td>\n",
       "    </tr>\n",
       "    <tr>\n",
       "      <th>mean</th>\n",
       "      <td>NaN</td>\n",
       "      <td>NaN</td>\n",
       "      <td>NaN</td>\n",
       "      <td>NaN</td>\n",
       "      <td>NaN</td>\n",
       "      <td>NaN</td>\n",
       "      <td>74768.321972</td>\n",
       "      <td>93692.554811</td>\n",
       "      <td>2012.522643</td>\n",
       "    </tr>\n",
       "    <tr>\n",
       "      <th>std</th>\n",
       "      <td>NaN</td>\n",
       "      <td>NaN</td>\n",
       "      <td>NaN</td>\n",
       "      <td>NaN</td>\n",
       "      <td>NaN</td>\n",
       "      <td>NaN</td>\n",
       "      <td>50517.005274</td>\n",
       "      <td>62793.533483</td>\n",
       "      <td>1.117538</td>\n",
       "    </tr>\n",
       "    <tr>\n",
       "      <th>min</th>\n",
       "      <td>NaN</td>\n",
       "      <td>NaN</td>\n",
       "      <td>NaN</td>\n",
       "      <td>NaN</td>\n",
       "      <td>NaN</td>\n",
       "      <td>NaN</td>\n",
       "      <td>-618.130000</td>\n",
       "      <td>-618.130000</td>\n",
       "      <td>2011.000000</td>\n",
       "    </tr>\n",
       "    <tr>\n",
       "      <th>25%</th>\n",
       "      <td>NaN</td>\n",
       "      <td>NaN</td>\n",
       "      <td>NaN</td>\n",
       "      <td>NaN</td>\n",
       "      <td>NaN</td>\n",
       "      <td>NaN</td>\n",
       "      <td>36168.995000</td>\n",
       "      <td>44065.650000</td>\n",
       "      <td>2012.000000</td>\n",
       "    </tr>\n",
       "    <tr>\n",
       "      <th>50%</th>\n",
       "      <td>NaN</td>\n",
       "      <td>NaN</td>\n",
       "      <td>NaN</td>\n",
       "      <td>NaN</td>\n",
       "      <td>NaN</td>\n",
       "      <td>NaN</td>\n",
       "      <td>71426.610000</td>\n",
       "      <td>92404.090000</td>\n",
       "      <td>2013.000000</td>\n",
       "    </tr>\n",
       "    <tr>\n",
       "      <th>75%</th>\n",
       "      <td>NaN</td>\n",
       "      <td>NaN</td>\n",
       "      <td>NaN</td>\n",
       "      <td>NaN</td>\n",
       "      <td>NaN</td>\n",
       "      <td>NaN</td>\n",
       "      <td>105839.135000</td>\n",
       "      <td>132876.450000</td>\n",
       "      <td>2014.000000</td>\n",
       "    </tr>\n",
       "    <tr>\n",
       "      <th>max</th>\n",
       "      <td>NaN</td>\n",
       "      <td>NaN</td>\n",
       "      <td>NaN</td>\n",
       "      <td>NaN</td>\n",
       "      <td>NaN</td>\n",
       "      <td>NaN</td>\n",
       "      <td>567595.430000</td>\n",
       "      <td>567595.430000</td>\n",
       "      <td>2014.000000</td>\n",
       "    </tr>\n",
       "  </tbody>\n",
       "</table>\n",
       "</div>"
      ],
      "text/plain": [
       "       EmployeeName          JobTitle BasePay OvertimePay OtherPay Benefits  \\\n",
       "count        148654            148654  148049      148654   148654   112495   \n",
       "unique       110811              2159  109724       66162    84243    98647   \n",
       "top       Kevin Lee  Transit Operator     0.0         0.0      0.0      0.0   \n",
       "freq             13              7036     872       57868    30068     1024   \n",
       "mean            NaN               NaN     NaN         NaN      NaN      NaN   \n",
       "std             NaN               NaN     NaN         NaN      NaN      NaN   \n",
       "min             NaN               NaN     NaN         NaN      NaN      NaN   \n",
       "25%             NaN               NaN     NaN         NaN      NaN      NaN   \n",
       "50%             NaN               NaN     NaN         NaN      NaN      NaN   \n",
       "75%             NaN               NaN     NaN         NaN      NaN      NaN   \n",
       "max             NaN               NaN     NaN         NaN      NaN      NaN   \n",
       "\n",
       "             TotalPay  TotalPayBenefits           Year  \n",
       "count   148654.000000     148654.000000  148654.000000  \n",
       "unique            NaN               NaN            NaN  \n",
       "top               NaN               NaN            NaN  \n",
       "freq              NaN               NaN            NaN  \n",
       "mean     74768.321972      93692.554811    2012.522643  \n",
       "std      50517.005274      62793.533483       1.117538  \n",
       "min       -618.130000       -618.130000    2011.000000  \n",
       "25%      36168.995000      44065.650000    2012.000000  \n",
       "50%      71426.610000      92404.090000    2013.000000  \n",
       "75%     105839.135000     132876.450000    2014.000000  \n",
       "max     567595.430000     567595.430000    2014.000000  "
      ]
     },
     "execution_count": 9,
     "metadata": {},
     "output_type": "execute_result"
    }
   ],
   "source": [
    "sal.describe(include='all')"
   ]
  },
  {
   "cell_type": "markdown",
   "id": "e941a096-076e-4c07-b4ea-c9ba0cf6ce4b",
   "metadata": {},
   "source": [
    "### 8. Find the occurrence of the employees names (top 5)"
   ]
  },
  {
   "cell_type": "code",
   "execution_count": 10,
   "id": "5e195652-6ec1-4276-b0ea-40b5a4a718b3",
   "metadata": {},
   "outputs": [
    {
     "data": {
      "text/plain": [
       "Index(['EmployeeName', 'JobTitle', 'BasePay', 'OvertimePay', 'OtherPay',\n",
       "       'Benefits', 'TotalPay', 'TotalPayBenefits', 'Year'],\n",
       "      dtype='object')"
      ]
     },
     "execution_count": 10,
     "metadata": {},
     "output_type": "execute_result"
    }
   ],
   "source": [
    "sal.columns"
   ]
  },
  {
   "cell_type": "code",
   "execution_count": 11,
   "id": "d3b13d18-5562-4b4b-850e-a97ad4073816",
   "metadata": {},
   "outputs": [
    {
     "data": {
      "text/plain": [
       "EmployeeName\n",
       "Kevin Lee       13\n",
       "Richard Lee     11\n",
       "Steven Lee      11\n",
       "William Wong    11\n",
       "Stanley Lee      9\n",
       "Name: count, dtype: int64"
      ]
     },
     "execution_count": 11,
     "metadata": {},
     "output_type": "execute_result"
    }
   ],
   "source": [
    "sal['EmployeeName'].value_counts().head(5)"
   ]
  },
  {
   "cell_type": "code",
   "execution_count": 12,
   "id": "89853d73-da45-426e-aa6a-54e5e2fe4b39",
   "metadata": {},
   "outputs": [
    {
     "data": {
      "text/plain": [
       "EmployeeName\n",
       "Kevin Lee       13\n",
       "Richard Lee     11\n",
       "Steven Lee      11\n",
       "William Wong    11\n",
       "Stanley Lee      9\n",
       "Name: count, dtype: int64"
      ]
     },
     "execution_count": 12,
     "metadata": {},
     "output_type": "execute_result"
    }
   ],
   "source": [
    "sal.EmployeeName.value_counts().head(5)"
   ]
  },
  {
   "cell_type": "markdown",
   "id": "1d59799d-9bb6-4b02-bc7b-d46f12ae9fc7",
   "metadata": {},
   "source": [
    "### 9. Find the number of unique job titles"
   ]
  },
  {
   "cell_type": "code",
   "execution_count": 13,
   "id": "6cf33214-087f-42bb-b8e1-6e22391d4ad2",
   "metadata": {},
   "outputs": [
    {
     "data": {
      "text/plain": [
       "Index(['EmployeeName', 'JobTitle', 'BasePay', 'OvertimePay', 'OtherPay',\n",
       "       'Benefits', 'TotalPay', 'TotalPayBenefits', 'Year'],\n",
       "      dtype='object')"
      ]
     },
     "execution_count": 13,
     "metadata": {},
     "output_type": "execute_result"
    }
   ],
   "source": [
    "sal.columns"
   ]
  },
  {
   "cell_type": "code",
   "execution_count": 14,
   "id": "591b88bf-5806-4ad8-8805-f24c42a5a480",
   "metadata": {},
   "outputs": [
    {
     "data": {
      "text/plain": [
       "2159"
      ]
     },
     "execution_count": 14,
     "metadata": {},
     "output_type": "execute_result"
    }
   ],
   "source": [
    "sal.JobTitle.nunique()"
   ]
  },
  {
   "cell_type": "markdown",
   "id": "b76bd441-07c1-4d3e-824c-eb657ffe4093",
   "metadata": {},
   "source": [
    "### 10. Total number of job titles that contain Captain"
   ]
  },
  {
   "cell_type": "code",
   "execution_count": 15,
   "id": "ab90c615-cf1a-4a00-8118-f1253972c5e3",
   "metadata": {},
   "outputs": [
    {
     "data": {
      "text/plain": [
       "0         False\n",
       "1         False\n",
       "2         False\n",
       "3         False\n",
       "4         False\n",
       "          ...  \n",
       "148649    False\n",
       "148650    False\n",
       "148651    False\n",
       "148652    False\n",
       "148653    False\n",
       "Name: JobTitle, Length: 148654, dtype: bool"
      ]
     },
     "execution_count": 15,
     "metadata": {},
     "output_type": "execute_result"
    }
   ],
   "source": [
    "sal['JobTitle'].str.contains('Captain')"
   ]
  },
  {
   "cell_type": "code",
   "execution_count": 16,
   "id": "e34eb04c-e1fe-4421-bb8b-de85f2fb9ec5",
   "metadata": {},
   "outputs": [
    {
     "data": {
      "text/plain": [
       "JobTitle\n",
       "False    148243\n",
       "True        411\n",
       "Name: count, dtype: int64"
      ]
     },
     "execution_count": 16,
     "metadata": {},
     "output_type": "execute_result"
    }
   ],
   "source": [
    "sal['JobTitle'].str.contains('Captain', case=True).value_counts()"
   ]
  },
  {
   "cell_type": "code",
   "execution_count": 17,
   "id": "35df9684-1c2f-4af2-a48a-9cadf5caae51",
   "metadata": {},
   "outputs": [
    {
     "data": {
      "text/html": [
       "<div>\n",
       "<style scoped>\n",
       "    .dataframe tbody tr th:only-of-type {\n",
       "        vertical-align: middle;\n",
       "    }\n",
       "\n",
       "    .dataframe tbody tr th {\n",
       "        vertical-align: top;\n",
       "    }\n",
       "\n",
       "    .dataframe thead th {\n",
       "        text-align: right;\n",
       "    }\n",
       "</style>\n",
       "<table border=\"1\" class=\"dataframe\">\n",
       "  <thead>\n",
       "    <tr style=\"text-align: right;\">\n",
       "      <th></th>\n",
       "      <th>EmployeeName</th>\n",
       "      <th>JobTitle</th>\n",
       "      <th>BasePay</th>\n",
       "      <th>OvertimePay</th>\n",
       "      <th>OtherPay</th>\n",
       "      <th>Benefits</th>\n",
       "      <th>TotalPay</th>\n",
       "      <th>TotalPayBenefits</th>\n",
       "      <th>Year</th>\n",
       "    </tr>\n",
       "  </thead>\n",
       "  <tbody>\n",
       "    <tr>\n",
       "      <th>36167</th>\n",
       "      <td>John Goldberg</td>\n",
       "      <td>Captain 3</td>\n",
       "      <td>104404.0</td>\n",
       "      <td>0.0</td>\n",
       "      <td>245999.41</td>\n",
       "      <td>24287.23</td>\n",
       "      <td>350403.41</td>\n",
       "      <td>374690.64</td>\n",
       "      <td>2012</td>\n",
       "    </tr>\n",
       "    <tr>\n",
       "      <th>36180</th>\n",
       "      <td>Michael Rolovich</td>\n",
       "      <td>Captain, Fire Suppression</td>\n",
       "      <td>145659.03</td>\n",
       "      <td>125868.06</td>\n",
       "      <td>30474.97</td>\n",
       "      <td>45129.03</td>\n",
       "      <td>302002.06</td>\n",
       "      <td>347131.09</td>\n",
       "      <td>2012</td>\n",
       "    </tr>\n",
       "    <tr>\n",
       "      <th>36184</th>\n",
       "      <td>Darryl Hunter</td>\n",
       "      <td>Captain, Fire Suppression</td>\n",
       "      <td>145659.03</td>\n",
       "      <td>115673.73</td>\n",
       "      <td>32610.0</td>\n",
       "      <td>49571.51</td>\n",
       "      <td>293942.76</td>\n",
       "      <td>343514.27</td>\n",
       "      <td>2012</td>\n",
       "    </tr>\n",
       "    <tr>\n",
       "      <th>36186</th>\n",
       "      <td>Michael Delane</td>\n",
       "      <td>Captain, Fire Suppression</td>\n",
       "      <td>147069.71</td>\n",
       "      <td>113372.94</td>\n",
       "      <td>33012.58</td>\n",
       "      <td>45978.15</td>\n",
       "      <td>293455.23</td>\n",
       "      <td>339433.38</td>\n",
       "      <td>2012</td>\n",
       "    </tr>\n",
       "    <tr>\n",
       "      <th>36189</th>\n",
       "      <td>Philip Stevens</td>\n",
       "      <td>Captain, Fire Suppression</td>\n",
       "      <td>124573.5</td>\n",
       "      <td>53895.92</td>\n",
       "      <td>130200.4</td>\n",
       "      <td>28907.03</td>\n",
       "      <td>308669.82</td>\n",
       "      <td>337576.85</td>\n",
       "      <td>2012</td>\n",
       "    </tr>\n",
       "    <tr>\n",
       "      <th>...</th>\n",
       "      <td>...</td>\n",
       "      <td>...</td>\n",
       "      <td>...</td>\n",
       "      <td>...</td>\n",
       "      <td>...</td>\n",
       "      <td>...</td>\n",
       "      <td>...</td>\n",
       "      <td>...</td>\n",
       "      <td>...</td>\n",
       "    </tr>\n",
       "    <tr>\n",
       "      <th>116604</th>\n",
       "      <td>Gregory L Stewart</td>\n",
       "      <td>Captain, Fire Suppression</td>\n",
       "      <td>73355.21</td>\n",
       "      <td>18517.18</td>\n",
       "      <td>49917.73</td>\n",
       "      <td>25608.77</td>\n",
       "      <td>141790.12</td>\n",
       "      <td>167398.89</td>\n",
       "      <td>2014</td>\n",
       "    </tr>\n",
       "    <tr>\n",
       "      <th>120867</th>\n",
       "      <td>Michael J Moran</td>\n",
       "      <td>Captain 3</td>\n",
       "      <td>7660.00</td>\n",
       "      <td>1496.09</td>\n",
       "      <td>126560.36</td>\n",
       "      <td>2189.51</td>\n",
       "      <td>135716.45</td>\n",
       "      <td>137905.96</td>\n",
       "      <td>2014</td>\n",
       "    </tr>\n",
       "    <tr>\n",
       "      <th>122361</th>\n",
       "      <td>Michael V Rolovich</td>\n",
       "      <td>Captain, Fire Suppression</td>\n",
       "      <td>0.00</td>\n",
       "      <td>0.00</td>\n",
       "      <td>130320.75</td>\n",
       "      <td>0.00</td>\n",
       "      <td>130320.75</td>\n",
       "      <td>130320.75</td>\n",
       "      <td>2014</td>\n",
       "    </tr>\n",
       "    <tr>\n",
       "      <th>126588</th>\n",
       "      <td>Stephen M Tittel</td>\n",
       "      <td>Captain 3</td>\n",
       "      <td>68491.89</td>\n",
       "      <td>0.00</td>\n",
       "      <td>23721.91</td>\n",
       "      <td>19020.79</td>\n",
       "      <td>92213.80</td>\n",
       "      <td>111234.59</td>\n",
       "      <td>2014</td>\n",
       "    </tr>\n",
       "    <tr>\n",
       "      <th>132232</th>\n",
       "      <td>Jeanne M Seyler</td>\n",
       "      <td>Captain, Fire Suppression</td>\n",
       "      <td>61039.43</td>\n",
       "      <td>2285.30</td>\n",
       "      <td>7548.29</td>\n",
       "      <td>20113.76</td>\n",
       "      <td>70873.02</td>\n",
       "      <td>90986.78</td>\n",
       "      <td>2014</td>\n",
       "    </tr>\n",
       "  </tbody>\n",
       "</table>\n",
       "<p>411 rows × 9 columns</p>\n",
       "</div>"
      ],
      "text/plain": [
       "              EmployeeName                   JobTitle    BasePay OvertimePay  \\\n",
       "36167        John Goldberg                  Captain 3   104404.0         0.0   \n",
       "36180     Michael Rolovich  Captain, Fire Suppression  145659.03   125868.06   \n",
       "36184        Darryl Hunter  Captain, Fire Suppression  145659.03   115673.73   \n",
       "36186       Michael Delane  Captain, Fire Suppression  147069.71   113372.94   \n",
       "36189       Philip Stevens  Captain, Fire Suppression   124573.5    53895.92   \n",
       "...                    ...                        ...        ...         ...   \n",
       "116604   Gregory L Stewart  Captain, Fire Suppression   73355.21    18517.18   \n",
       "120867     Michael J Moran                  Captain 3    7660.00     1496.09   \n",
       "122361  Michael V Rolovich  Captain, Fire Suppression       0.00        0.00   \n",
       "126588    Stephen M Tittel                  Captain 3   68491.89        0.00   \n",
       "132232     Jeanne M Seyler  Captain, Fire Suppression   61039.43     2285.30   \n",
       "\n",
       "         OtherPay  Benefits   TotalPay  TotalPayBenefits  Year  \n",
       "36167   245999.41  24287.23  350403.41         374690.64  2012  \n",
       "36180    30474.97  45129.03  302002.06         347131.09  2012  \n",
       "36184     32610.0  49571.51  293942.76         343514.27  2012  \n",
       "36186    33012.58  45978.15  293455.23         339433.38  2012  \n",
       "36189    130200.4  28907.03  308669.82         337576.85  2012  \n",
       "...           ...       ...        ...               ...   ...  \n",
       "116604   49917.73  25608.77  141790.12         167398.89  2014  \n",
       "120867  126560.36   2189.51  135716.45         137905.96  2014  \n",
       "122361  130320.75      0.00  130320.75         130320.75  2014  \n",
       "126588   23721.91  19020.79   92213.80         111234.59  2014  \n",
       "132232    7548.29  20113.76   70873.02          90986.78  2014  \n",
       "\n",
       "[411 rows x 9 columns]"
      ]
     },
     "execution_count": 17,
     "metadata": {},
     "output_type": "execute_result"
    }
   ],
   "source": [
    "sal[sal['JobTitle'].str.contains('Captain', case=True)]"
   ]
  },
  {
   "cell_type": "code",
   "execution_count": 18,
   "id": "b9f214fb-d042-4a38-989c-998cc41da72b",
   "metadata": {},
   "outputs": [
    {
     "data": {
      "text/plain": [
       "EmployeeName        552\n",
       "JobTitle            552\n",
       "BasePay             551\n",
       "OvertimePay         552\n",
       "OtherPay            552\n",
       "Benefits            411\n",
       "TotalPay            552\n",
       "TotalPayBenefits    552\n",
       "Year                552\n",
       "dtype: int64"
      ]
     },
     "execution_count": 18,
     "metadata": {},
     "output_type": "execute_result"
    }
   ],
   "source": [
    "sal[sal['JobTitle'].str.contains('Captain', case=False)].count()"
   ]
  },
  {
   "cell_type": "markdown",
   "id": "1f5b9054-a9f1-49f9-86e9-882e5b713a44",
   "metadata": {},
   "source": [
    "### 11. Display all Employee Names from the Fire Department"
   ]
  },
  {
   "cell_type": "code",
   "execution_count": 19,
   "id": "ece03f41-a286-4dcb-a899-04aede020712",
   "metadata": {},
   "outputs": [
    {
     "data": {
      "text/plain": [
       "Index(['EmployeeName', 'JobTitle', 'BasePay', 'OvertimePay', 'OtherPay',\n",
       "       'Benefits', 'TotalPay', 'TotalPayBenefits', 'Year'],\n",
       "      dtype='object')"
      ]
     },
     "execution_count": 19,
     "metadata": {},
     "output_type": "execute_result"
    }
   ],
   "source": [
    "sal.columns"
   ]
  },
  {
   "cell_type": "code",
   "execution_count": 20,
   "id": "f085807e-6b4c-4c05-b14b-42bffb258f21",
   "metadata": {},
   "outputs": [
    {
     "data": {
      "text/plain": [
       "4            PATRICK GARDNER\n",
       "6                  ALSON LEE\n",
       "8             MICHAEL MORRIS\n",
       "9         JOANNE HAYES-WHITE\n",
       "10             ARTHUR KENNEY\n",
       "                 ...        \n",
       "145956      Kenneth C Farris\n",
       "147556         Edward A Dunn\n",
       "148021        Kari A Johnson\n",
       "148209          Sheryl K Lee\n",
       "148554       Lawrence F Gatt\n",
       "Name: EmployeeName, Length: 5879, dtype: object"
      ]
     },
     "execution_count": 20,
     "metadata": {},
     "output_type": "execute_result"
    }
   ],
   "source": [
    "sal[sal['JobTitle'].str.contains('FIRE', case=False)]['EmployeeName']"
   ]
  },
  {
   "cell_type": "code",
   "execution_count": 24,
   "id": "24c61d87-67c1-4844-bb23-d3a5834aea55",
   "metadata": {},
   "outputs": [
    {
     "data": {
      "text/plain": [
       "4           PATRICK GARDNER\n",
       "6                 ALSON LEE\n",
       "8            MICHAEL MORRIS\n",
       "9        JOANNE HAYES-WHITE\n",
       "10            ARTHUR KENNEY\n",
       "                ...        \n",
       "34790       CHARLES JOHNSON\n",
       "34927         THOMAS LEEPER\n",
       "35811         ROBERTO LUCHA\n",
       "36076           DEBRA TANIS\n",
       "36153         ROCK CRAWFORD\n",
       "Name: EmployeeName, Length: 1459, dtype: object"
      ]
     },
     "execution_count": 24,
     "metadata": {},
     "output_type": "execute_result"
    }
   ],
   "source": [
    "sal[sal['JobTitle'].str.contains('FIRE')]['EmployeeName']"
   ]
  },
  {
   "cell_type": "code",
   "execution_count": 25,
   "id": "7b9cdff8-c55e-4d60-aca1-5874c7cc0e33",
   "metadata": {},
   "outputs": [
    {
     "data": {
      "text/plain": [
       "4420"
      ]
     },
     "execution_count": 25,
     "metadata": {},
     "output_type": "execute_result"
    }
   ],
   "source": [
    "5879-1459"
   ]
  },
  {
   "cell_type": "markdown",
   "id": "64eee284-df77-484d-9fa0-5387c5b364c0",
   "metadata": {},
   "source": [
    "### 12. Find Min, Max, and Avg Base Salary"
   ]
  },
  {
   "cell_type": "code",
   "execution_count": 56,
   "id": "7b66079b-3240-4d53-ab76-7452dd570ebb",
   "metadata": {},
   "outputs": [
    {
     "data": {
      "text/plain": [
       "Index(['EmployeeName', 'JobTitle', 'BasePay', 'OvertimePay', 'OtherPay',\n",
       "       'Benefits', 'TotalPay', 'TotalPayBenefits', 'Year'],\n",
       "      dtype='object')"
      ]
     },
     "execution_count": 56,
     "metadata": {},
     "output_type": "execute_result"
    }
   ],
   "source": [
    "sal.columns"
   ]
  },
  {
   "cell_type": "code",
   "execution_count": 57,
   "id": "46ee11c8-249f-4efa-877a-73fda3d00efa",
   "metadata": {},
   "outputs": [
    {
     "data": {
      "text/plain": [
       "array(['167411.18', '155966.02', '212739.13', ..., '6.04', '15.50',\n",
       "       'Not Provided'], dtype=object)"
      ]
     },
     "execution_count": 57,
     "metadata": {},
     "output_type": "execute_result"
    }
   ],
   "source": [
    "sal.BasePay.unique()"
   ]
  },
  {
   "cell_type": "code",
   "execution_count": 58,
   "id": "c3a6bec1-7f6d-4ce3-aac6-997dab90b876",
   "metadata": {},
   "outputs": [],
   "source": [
    "sal_drop = sal.copy()"
   ]
  },
  {
   "cell_type": "code",
   "execution_count": 59,
   "id": "08a38316-c6b5-4761-a213-0926e7614fe5",
   "metadata": {},
   "outputs": [],
   "source": [
    "# Replace 'Not Provided' with NaN\n",
    "sal_drop['BasePay'] = sal_drop['BasePay'].replace('Not Provided', np.nan)"
   ]
  },
  {
   "cell_type": "code",
   "execution_count": 60,
   "id": "4c782d26-20ff-4030-b186-816e4bb178ba",
   "metadata": {},
   "outputs": [],
   "source": [
    "sal_drop = sal_drop.dropna(subset=['BasePay'])"
   ]
  },
  {
   "cell_type": "code",
   "execution_count": 61,
   "id": "c0ec9c9e-b54d-406c-90d3-33880daa2007",
   "metadata": {},
   "outputs": [
    {
     "data": {
      "text/html": [
       "<div>\n",
       "<style scoped>\n",
       "    .dataframe tbody tr th:only-of-type {\n",
       "        vertical-align: middle;\n",
       "    }\n",
       "\n",
       "    .dataframe tbody tr th {\n",
       "        vertical-align: top;\n",
       "    }\n",
       "\n",
       "    .dataframe thead th {\n",
       "        text-align: right;\n",
       "    }\n",
       "</style>\n",
       "<table border=\"1\" class=\"dataframe\">\n",
       "  <thead>\n",
       "    <tr style=\"text-align: right;\">\n",
       "      <th></th>\n",
       "      <th>EmployeeName</th>\n",
       "      <th>JobTitle</th>\n",
       "      <th>BasePay</th>\n",
       "      <th>OvertimePay</th>\n",
       "      <th>OtherPay</th>\n",
       "      <th>Benefits</th>\n",
       "      <th>TotalPay</th>\n",
       "      <th>TotalPayBenefits</th>\n",
       "      <th>Year</th>\n",
       "    </tr>\n",
       "  </thead>\n",
       "  <tbody>\n",
       "    <tr>\n",
       "      <th>0</th>\n",
       "      <td>NATHANIEL FORD</td>\n",
       "      <td>GENERAL MANAGER-METROPOLITAN TRANSIT AUTHORITY</td>\n",
       "      <td>167411.18</td>\n",
       "      <td>0.0</td>\n",
       "      <td>400184.25</td>\n",
       "      <td>NaN</td>\n",
       "      <td>567595.43</td>\n",
       "      <td>567595.43</td>\n",
       "      <td>2011</td>\n",
       "    </tr>\n",
       "    <tr>\n",
       "      <th>1</th>\n",
       "      <td>GARY JIMENEZ</td>\n",
       "      <td>CAPTAIN III (POLICE DEPARTMENT)</td>\n",
       "      <td>155966.02</td>\n",
       "      <td>245131.88</td>\n",
       "      <td>137811.38</td>\n",
       "      <td>NaN</td>\n",
       "      <td>538909.28</td>\n",
       "      <td>538909.28</td>\n",
       "      <td>2011</td>\n",
       "    </tr>\n",
       "    <tr>\n",
       "      <th>2</th>\n",
       "      <td>ALBERT PARDINI</td>\n",
       "      <td>CAPTAIN III (POLICE DEPARTMENT)</td>\n",
       "      <td>212739.13</td>\n",
       "      <td>106088.18</td>\n",
       "      <td>16452.6</td>\n",
       "      <td>NaN</td>\n",
       "      <td>335279.91</td>\n",
       "      <td>335279.91</td>\n",
       "      <td>2011</td>\n",
       "    </tr>\n",
       "    <tr>\n",
       "      <th>3</th>\n",
       "      <td>CHRISTOPHER CHONG</td>\n",
       "      <td>WIRE ROPE CABLE MAINTENANCE MECHANIC</td>\n",
       "      <td>77916.0</td>\n",
       "      <td>56120.71</td>\n",
       "      <td>198306.9</td>\n",
       "      <td>NaN</td>\n",
       "      <td>332343.61</td>\n",
       "      <td>332343.61</td>\n",
       "      <td>2011</td>\n",
       "    </tr>\n",
       "    <tr>\n",
       "      <th>4</th>\n",
       "      <td>PATRICK GARDNER</td>\n",
       "      <td>DEPUTY CHIEF OF DEPARTMENT,(FIRE DEPARTMENT)</td>\n",
       "      <td>134401.6</td>\n",
       "      <td>9737.0</td>\n",
       "      <td>182234.59</td>\n",
       "      <td>NaN</td>\n",
       "      <td>326373.19</td>\n",
       "      <td>326373.19</td>\n",
       "      <td>2011</td>\n",
       "    </tr>\n",
       "  </tbody>\n",
       "</table>\n",
       "</div>"
      ],
      "text/plain": [
       "        EmployeeName                                        JobTitle  \\\n",
       "0     NATHANIEL FORD  GENERAL MANAGER-METROPOLITAN TRANSIT AUTHORITY   \n",
       "1       GARY JIMENEZ                 CAPTAIN III (POLICE DEPARTMENT)   \n",
       "2     ALBERT PARDINI                 CAPTAIN III (POLICE DEPARTMENT)   \n",
       "3  CHRISTOPHER CHONG            WIRE ROPE CABLE MAINTENANCE MECHANIC   \n",
       "4    PATRICK GARDNER    DEPUTY CHIEF OF DEPARTMENT,(FIRE DEPARTMENT)   \n",
       "\n",
       "     BasePay OvertimePay   OtherPay Benefits   TotalPay  TotalPayBenefits  \\\n",
       "0  167411.18         0.0  400184.25      NaN  567595.43         567595.43   \n",
       "1  155966.02   245131.88  137811.38      NaN  538909.28         538909.28   \n",
       "2  212739.13   106088.18    16452.6      NaN  335279.91         335279.91   \n",
       "3    77916.0    56120.71   198306.9      NaN  332343.61         332343.61   \n",
       "4   134401.6      9737.0  182234.59      NaN  326373.19         326373.19   \n",
       "\n",
       "   Year  \n",
       "0  2011  \n",
       "1  2011  \n",
       "2  2011  \n",
       "3  2011  \n",
       "4  2011  "
      ]
     },
     "execution_count": 61,
     "metadata": {},
     "output_type": "execute_result"
    }
   ],
   "source": [
    "sal_drop.head()"
   ]
  },
  {
   "cell_type": "code",
   "execution_count": 64,
   "id": "46d3a6dd-e86d-4d78-801e-47e1c42b55de",
   "metadata": {},
   "outputs": [
    {
     "data": {
      "text/plain": [
       "Index(['EmployeeName', 'JobTitle', 'BasePay', 'OvertimePay', 'OtherPay',\n",
       "       'Benefits', 'TotalPay', 'TotalPayBenefits', 'Year'],\n",
       "      dtype='object')"
      ]
     },
     "execution_count": 64,
     "metadata": {},
     "output_type": "execute_result"
    }
   ],
   "source": [
    "sal_drop.columns"
   ]
  },
  {
   "cell_type": "code",
   "execution_count": 68,
   "id": "6e1c3dc7-e205-4e42-8249-308170385f7a",
   "metadata": {},
   "outputs": [
    {
     "data": {
      "text/plain": [
       "EmployeeName            0\n",
       "JobTitle                0\n",
       "BasePay                 0\n",
       "OvertimePay             0\n",
       "OtherPay                0\n",
       "Benefits            36159\n",
       "TotalPay                0\n",
       "TotalPayBenefits        0\n",
       "Year                    0\n",
       "dtype: int64"
      ]
     },
     "execution_count": 68,
     "metadata": {},
     "output_type": "execute_result"
    }
   ],
   "source": [
    "sal_drop.isnull().sum()"
   ]
  },
  {
   "cell_type": "code",
   "execution_count": 69,
   "id": "3a7f5f94-298f-4807-af7b-bbbda4f7d08d",
   "metadata": {},
   "outputs": [
    {
     "name": "stdout",
     "output_type": "stream",
     "text": [
      "<class 'pandas.core.frame.DataFrame'>\n",
      "Index: 148045 entries, 0 to 148653\n",
      "Data columns (total 9 columns):\n",
      " #   Column            Non-Null Count   Dtype  \n",
      "---  ------            --------------   -----  \n",
      " 0   EmployeeName      148045 non-null  object \n",
      " 1   JobTitle          148045 non-null  object \n",
      " 2   BasePay           148045 non-null  object \n",
      " 3   OvertimePay       148045 non-null  object \n",
      " 4   OtherPay          148045 non-null  object \n",
      " 5   Benefits          111886 non-null  object \n",
      " 6   TotalPay          148045 non-null  float64\n",
      " 7   TotalPayBenefits  148045 non-null  float64\n",
      " 8   Year              148045 non-null  int64  \n",
      "dtypes: float64(2), int64(1), object(6)\n",
      "memory usage: 11.3+ MB\n"
     ]
    }
   ],
   "source": [
    "sal_drop.info()"
   ]
  },
  {
   "cell_type": "code",
   "execution_count": 74,
   "id": "ceea9714-65c5-43ff-b494-7a890dc04b1f",
   "metadata": {},
   "outputs": [],
   "source": [
    "# Convert BasePay to numeric (this will convert valid entries and leave NaN as is)\n",
    "sal_drop['BasePay'] = pd.to_numeric(sal_drop['BasePay'], errors='coerce')\n",
    "\n",
    "# Drop rows where BasePay is NaN\n",
    "sal_drop = sal_drop.dropna(subset=['BasePay'])\n",
    "\n",
    "# Convert BasePay to int64 after ensuring it contains no decimal values\n",
    "sal_drop['BasePay'] = sal_drop['BasePay'].astype('float64').astype('int64')"
   ]
  },
  {
   "cell_type": "code",
   "execution_count": 75,
   "id": "cf257cdb-04f0-480d-8846-0fa4142203c1",
   "metadata": {},
   "outputs": [
    {
     "data": {
      "text/plain": [
       "EmployeeName         object\n",
       "JobTitle             object\n",
       "BasePay               int64\n",
       "OvertimePay          object\n",
       "OtherPay             object\n",
       "Benefits             object\n",
       "TotalPay            float64\n",
       "TotalPayBenefits    float64\n",
       "Year                  int64\n",
       "dtype: object"
      ]
     },
     "execution_count": 75,
     "metadata": {},
     "output_type": "execute_result"
    }
   ],
   "source": [
    "sal_drop.dtypes"
   ]
  },
  {
   "cell_type": "code",
   "execution_count": 77,
   "id": "273993b3-df2d-49ff-aad8-cb7630e2fe40",
   "metadata": {},
   "outputs": [
    {
     "data": {
      "text/plain": [
       "count    148045.000000\n",
       "mean      66325.061907\n",
       "std       42764.663871\n",
       "min        -166.000000\n",
       "25%       33588.000000\n",
       "50%       65007.000000\n",
       "75%       94691.000000\n",
       "max      319275.000000\n",
       "Name: BasePay, dtype: float64"
      ]
     },
     "execution_count": 77,
     "metadata": {},
     "output_type": "execute_result"
    }
   ],
   "source": [
    "sal_drop['BasePay'].describe()"
   ]
  },
  {
   "cell_type": "code",
   "execution_count": null,
   "id": "0a189ba2-ed2e-4ea6-93ed-544d187367bd",
   "metadata": {},
   "outputs": [],
   "source": []
  },
  {
   "cell_type": "markdown",
   "id": "13914a2e-9f8c-448b-a74a-ba4e6cd076e1",
   "metadata": {},
   "source": [
    "### 13. Replace Not provided in Employee Name Column to NAN"
   ]
  },
  {
   "cell_type": "code",
   "execution_count": 80,
   "id": "7bad7724-f72a-4a1c-bce5-88fdff4e924e",
   "metadata": {},
   "outputs": [
    {
     "data": {
      "text/plain": [
       "Index(['EmployeeName', 'JobTitle', 'BasePay', 'OvertimePay', 'OtherPay',\n",
       "       'Benefits', 'TotalPay', 'TotalPayBenefits', 'Year'],\n",
       "      dtype='object')"
      ]
     },
     "execution_count": 80,
     "metadata": {},
     "output_type": "execute_result"
    }
   ],
   "source": [
    "sal_drop.columns"
   ]
  },
  {
   "cell_type": "code",
   "execution_count": 82,
   "id": "69025acf-3338-4b33-93a8-15b2af4f8023",
   "metadata": {},
   "outputs": [
    {
     "data": {
      "text/plain": [
       "0            NATHANIEL FORD\n",
       "1              GARY JIMENEZ\n",
       "2            ALBERT PARDINI\n",
       "3         CHRISTOPHER CHONG\n",
       "4           PATRICK GARDNER\n",
       "                ...        \n",
       "148649        Roy I Tillery\n",
       "148650         Not provided\n",
       "148651         Not provided\n",
       "148652         Not provided\n",
       "148653            Joe Lopez\n",
       "Name: EmployeeName, Length: 148654, dtype: object"
      ]
     },
     "execution_count": 82,
     "metadata": {},
     "output_type": "execute_result"
    }
   ],
   "source": [
    "sal.EmployeeName"
   ]
  },
  {
   "cell_type": "code",
   "execution_count": 83,
   "id": "509f5c74-43c1-4519-9257-723b46502a3e",
   "metadata": {},
   "outputs": [],
   "source": [
    "sal_emp = sal.copy()"
   ]
  },
  {
   "cell_type": "code",
   "execution_count": 86,
   "id": "b0b45bd6-8739-4b82-bd7d-3ffd030a0eb2",
   "metadata": {},
   "outputs": [],
   "source": [
    "sal_emp['EmployeeName'] = sal_emp['EmployeeName'].replace('Not provided', np.nan)"
   ]
  },
  {
   "cell_type": "code",
   "execution_count": 87,
   "id": "d250724f-7be7-4636-b7ce-f3b578dce536",
   "metadata": {},
   "outputs": [
    {
     "data": {
      "text/plain": [
       "0            NATHANIEL FORD\n",
       "1              GARY JIMENEZ\n",
       "2            ALBERT PARDINI\n",
       "3         CHRISTOPHER CHONG\n",
       "4           PATRICK GARDNER\n",
       "                ...        \n",
       "148649        Roy I Tillery\n",
       "148650                  NaN\n",
       "148651                  NaN\n",
       "148652                  NaN\n",
       "148653            Joe Lopez\n",
       "Name: EmployeeName, Length: 148654, dtype: object"
      ]
     },
     "execution_count": 87,
     "metadata": {},
     "output_type": "execute_result"
    }
   ],
   "source": [
    "sal_emp['EmployeeName']"
   ]
  },
  {
   "cell_type": "markdown",
   "id": "a4935e83-fb7b-481a-9602-12406a2c8e06",
   "metadata": {},
   "source": [
    "### 14. Drop the rows having 5 Missing Values"
   ]
  },
  {
   "cell_type": "code",
   "execution_count": 110,
   "id": "b8754fdf-1a9b-409d-a766-80ef003c003e",
   "metadata": {},
   "outputs": [
    {
     "data": {
      "text/html": [
       "<div>\n",
       "<style scoped>\n",
       "    .dataframe tbody tr th:only-of-type {\n",
       "        vertical-align: middle;\n",
       "    }\n",
       "\n",
       "    .dataframe tbody tr th {\n",
       "        vertical-align: top;\n",
       "    }\n",
       "\n",
       "    .dataframe thead th {\n",
       "        text-align: right;\n",
       "    }\n",
       "</style>\n",
       "<table border=\"1\" class=\"dataframe\">\n",
       "  <thead>\n",
       "    <tr style=\"text-align: right;\">\n",
       "      <th></th>\n",
       "      <th>Id</th>\n",
       "      <th>EmployeeName</th>\n",
       "      <th>JobTitle</th>\n",
       "      <th>BasePay</th>\n",
       "      <th>OvertimePay</th>\n",
       "      <th>OtherPay</th>\n",
       "      <th>Benefits</th>\n",
       "      <th>TotalPay</th>\n",
       "      <th>TotalPayBenefits</th>\n",
       "      <th>Year</th>\n",
       "      <th>Notes</th>\n",
       "      <th>Agency</th>\n",
       "      <th>Status</th>\n",
       "    </tr>\n",
       "  </thead>\n",
       "  <tbody>\n",
       "    <tr>\n",
       "      <th>0</th>\n",
       "      <td>1</td>\n",
       "      <td>NATHANIEL FORD</td>\n",
       "      <td>GENERAL MANAGER-METROPOLITAN TRANSIT AUTHORITY</td>\n",
       "      <td>167411.18</td>\n",
       "      <td>0.0</td>\n",
       "      <td>400184.25</td>\n",
       "      <td>NaN</td>\n",
       "      <td>567595.43</td>\n",
       "      <td>567595.43</td>\n",
       "      <td>2011</td>\n",
       "      <td>NaN</td>\n",
       "      <td>San Francisco</td>\n",
       "      <td>NaN</td>\n",
       "    </tr>\n",
       "    <tr>\n",
       "      <th>1</th>\n",
       "      <td>2</td>\n",
       "      <td>GARY JIMENEZ</td>\n",
       "      <td>CAPTAIN III (POLICE DEPARTMENT)</td>\n",
       "      <td>155966.02</td>\n",
       "      <td>245131.88</td>\n",
       "      <td>137811.38</td>\n",
       "      <td>NaN</td>\n",
       "      <td>538909.28</td>\n",
       "      <td>538909.28</td>\n",
       "      <td>2011</td>\n",
       "      <td>NaN</td>\n",
       "      <td>San Francisco</td>\n",
       "      <td>NaN</td>\n",
       "    </tr>\n",
       "    <tr>\n",
       "      <th>2</th>\n",
       "      <td>3</td>\n",
       "      <td>ALBERT PARDINI</td>\n",
       "      <td>CAPTAIN III (POLICE DEPARTMENT)</td>\n",
       "      <td>212739.13</td>\n",
       "      <td>106088.18</td>\n",
       "      <td>16452.6</td>\n",
       "      <td>NaN</td>\n",
       "      <td>335279.91</td>\n",
       "      <td>335279.91</td>\n",
       "      <td>2011</td>\n",
       "      <td>NaN</td>\n",
       "      <td>San Francisco</td>\n",
       "      <td>NaN</td>\n",
       "    </tr>\n",
       "    <tr>\n",
       "      <th>3</th>\n",
       "      <td>4</td>\n",
       "      <td>CHRISTOPHER CHONG</td>\n",
       "      <td>WIRE ROPE CABLE MAINTENANCE MECHANIC</td>\n",
       "      <td>77916.0</td>\n",
       "      <td>56120.71</td>\n",
       "      <td>198306.9</td>\n",
       "      <td>NaN</td>\n",
       "      <td>332343.61</td>\n",
       "      <td>332343.61</td>\n",
       "      <td>2011</td>\n",
       "      <td>NaN</td>\n",
       "      <td>San Francisco</td>\n",
       "      <td>NaN</td>\n",
       "    </tr>\n",
       "    <tr>\n",
       "      <th>4</th>\n",
       "      <td>5</td>\n",
       "      <td>PATRICK GARDNER</td>\n",
       "      <td>DEPUTY CHIEF OF DEPARTMENT,(FIRE DEPARTMENT)</td>\n",
       "      <td>134401.6</td>\n",
       "      <td>9737.0</td>\n",
       "      <td>182234.59</td>\n",
       "      <td>NaN</td>\n",
       "      <td>326373.19</td>\n",
       "      <td>326373.19</td>\n",
       "      <td>2011</td>\n",
       "      <td>NaN</td>\n",
       "      <td>San Francisco</td>\n",
       "      <td>NaN</td>\n",
       "    </tr>\n",
       "    <tr>\n",
       "      <th>...</th>\n",
       "      <td>...</td>\n",
       "      <td>...</td>\n",
       "      <td>...</td>\n",
       "      <td>...</td>\n",
       "      <td>...</td>\n",
       "      <td>...</td>\n",
       "      <td>...</td>\n",
       "      <td>...</td>\n",
       "      <td>...</td>\n",
       "      <td>...</td>\n",
       "      <td>...</td>\n",
       "      <td>...</td>\n",
       "      <td>...</td>\n",
       "    </tr>\n",
       "    <tr>\n",
       "      <th>110526</th>\n",
       "      <td>110527</td>\n",
       "      <td>Arthur L Curry</td>\n",
       "      <td>PS Aide Health Services</td>\n",
       "      <td>NaN</td>\n",
       "      <td>0.0</td>\n",
       "      <td>10.67</td>\n",
       "      <td>0.0</td>\n",
       "      <td>10.67</td>\n",
       "      <td>10.67</td>\n",
       "      <td>2013</td>\n",
       "      <td>NaN</td>\n",
       "      <td>San Francisco</td>\n",
       "      <td>NaN</td>\n",
       "    </tr>\n",
       "    <tr>\n",
       "      <th>110527</th>\n",
       "      <td>110528</td>\n",
       "      <td>Nereida  Vega</td>\n",
       "      <td>Senior Clerk</td>\n",
       "      <td>NaN</td>\n",
       "      <td>0.0</td>\n",
       "      <td>5.56</td>\n",
       "      <td>0.0</td>\n",
       "      <td>5.56</td>\n",
       "      <td>5.56</td>\n",
       "      <td>2013</td>\n",
       "      <td>NaN</td>\n",
       "      <td>San Francisco</td>\n",
       "      <td>NaN</td>\n",
       "    </tr>\n",
       "    <tr>\n",
       "      <th>110528</th>\n",
       "      <td>110529</td>\n",
       "      <td>Timothy E Gibson</td>\n",
       "      <td>Police Officer 3</td>\n",
       "      <td>NaN</td>\n",
       "      <td>0.0</td>\n",
       "      <td>0.0</td>\n",
       "      <td>-2.73</td>\n",
       "      <td>0.00</td>\n",
       "      <td>-2.73</td>\n",
       "      <td>2013</td>\n",
       "      <td>NaN</td>\n",
       "      <td>San Francisco</td>\n",
       "      <td>NaN</td>\n",
       "    </tr>\n",
       "    <tr>\n",
       "      <th>110529</th>\n",
       "      <td>110530</td>\n",
       "      <td>Mark E Laherty</td>\n",
       "      <td>Police Officer 3</td>\n",
       "      <td>NaN</td>\n",
       "      <td>0.0</td>\n",
       "      <td>0.0</td>\n",
       "      <td>-8.2</td>\n",
       "      <td>0.00</td>\n",
       "      <td>-8.20</td>\n",
       "      <td>2013</td>\n",
       "      <td>NaN</td>\n",
       "      <td>San Francisco</td>\n",
       "      <td>NaN</td>\n",
       "    </tr>\n",
       "    <tr>\n",
       "      <th>110530</th>\n",
       "      <td>110531</td>\n",
       "      <td>David P Kucia</td>\n",
       "      <td>Police Officer 3</td>\n",
       "      <td>NaN</td>\n",
       "      <td>0.0</td>\n",
       "      <td>0.0</td>\n",
       "      <td>-33.89</td>\n",
       "      <td>0.00</td>\n",
       "      <td>-33.89</td>\n",
       "      <td>2013</td>\n",
       "      <td>NaN</td>\n",
       "      <td>San Francisco</td>\n",
       "      <td>NaN</td>\n",
       "    </tr>\n",
       "  </tbody>\n",
       "</table>\n",
       "<p>36764 rows × 13 columns</p>\n",
       "</div>"
      ],
      "text/plain": [
       "            Id       EmployeeName  \\\n",
       "0            1     NATHANIEL FORD   \n",
       "1            2       GARY JIMENEZ   \n",
       "2            3     ALBERT PARDINI   \n",
       "3            4  CHRISTOPHER CHONG   \n",
       "4            5    PATRICK GARDNER   \n",
       "...        ...                ...   \n",
       "110526  110527     Arthur L Curry   \n",
       "110527  110528      Nereida  Vega   \n",
       "110528  110529   Timothy E Gibson   \n",
       "110529  110530     Mark E Laherty   \n",
       "110530  110531      David P Kucia   \n",
       "\n",
       "                                              JobTitle    BasePay OvertimePay  \\\n",
       "0       GENERAL MANAGER-METROPOLITAN TRANSIT AUTHORITY  167411.18         0.0   \n",
       "1                      CAPTAIN III (POLICE DEPARTMENT)  155966.02   245131.88   \n",
       "2                      CAPTAIN III (POLICE DEPARTMENT)  212739.13   106088.18   \n",
       "3                 WIRE ROPE CABLE MAINTENANCE MECHANIC    77916.0    56120.71   \n",
       "4         DEPUTY CHIEF OF DEPARTMENT,(FIRE DEPARTMENT)   134401.6      9737.0   \n",
       "...                                                ...        ...         ...   \n",
       "110526                         PS Aide Health Services        NaN         0.0   \n",
       "110527                                    Senior Clerk        NaN         0.0   \n",
       "110528                                Police Officer 3        NaN         0.0   \n",
       "110529                                Police Officer 3        NaN         0.0   \n",
       "110530                                Police Officer 3        NaN         0.0   \n",
       "\n",
       "         OtherPay Benefits   TotalPay  TotalPayBenefits  Year  Notes  \\\n",
       "0       400184.25      NaN  567595.43         567595.43  2011    NaN   \n",
       "1       137811.38      NaN  538909.28         538909.28  2011    NaN   \n",
       "2         16452.6      NaN  335279.91         335279.91  2011    NaN   \n",
       "3        198306.9      NaN  332343.61         332343.61  2011    NaN   \n",
       "4       182234.59      NaN  326373.19         326373.19  2011    NaN   \n",
       "...           ...      ...        ...               ...   ...    ...   \n",
       "110526      10.67      0.0      10.67             10.67  2013    NaN   \n",
       "110527       5.56      0.0       5.56              5.56  2013    NaN   \n",
       "110528        0.0    -2.73       0.00             -2.73  2013    NaN   \n",
       "110529        0.0     -8.2       0.00             -8.20  2013    NaN   \n",
       "110530        0.0   -33.89       0.00            -33.89  2013    NaN   \n",
       "\n",
       "               Agency Status  \n",
       "0       San Francisco    NaN  \n",
       "1       San Francisco    NaN  \n",
       "2       San Francisco    NaN  \n",
       "3       San Francisco    NaN  \n",
       "4       San Francisco    NaN  \n",
       "...               ...    ...  \n",
       "110526  San Francisco    NaN  \n",
       "110527  San Francisco    NaN  \n",
       "110528  San Francisco    NaN  \n",
       "110529  San Francisco    NaN  \n",
       "110530  San Francisco    NaN  \n",
       "\n",
       "[36764 rows x 13 columns]"
      ]
     },
     "execution_count": 110,
     "metadata": {},
     "output_type": "execute_result"
    }
   ],
   "source": [
    "salaries[salaries.isnull().sum(axis=1)==3]\n"
   ]
  },
  {
   "cell_type": "code",
   "execution_count": 114,
   "id": "dcd438aa-2be0-40ae-acce-f3751373b121",
   "metadata": {},
   "outputs": [],
   "source": [
    "salaries.drop(salaries[salaries.isnull().sum(axis=1)==3].index, axis=0, inplace=True)"
   ]
  },
  {
   "cell_type": "code",
   "execution_count": 116,
   "id": "931d9d1c-bbb2-4727-9357-53584bf0beec",
   "metadata": {},
   "outputs": [
    {
     "data": {
      "text/plain": [
       "36159     2\n",
       "36160     2\n",
       "36161     2\n",
       "36162     2\n",
       "36163     2\n",
       "         ..\n",
       "148649    1\n",
       "148650    2\n",
       "148651    2\n",
       "148652    2\n",
       "148653    1\n",
       "Length: 111890, dtype: int64"
      ]
     },
     "execution_count": 116,
     "metadata": {},
     "output_type": "execute_result"
    }
   ],
   "source": [
    "salaries.isnull().sum(axis=1)"
   ]
  },
  {
   "cell_type": "markdown",
   "id": "a1a65fbd-2f23-47d0-b905-35972bfff822",
   "metadata": {},
   "source": [
    "### 15. Find job title of Albert Pardini"
   ]
  },
  {
   "cell_type": "code",
   "execution_count": 118,
   "id": "86ef4320-c3c4-4d48-a8e6-122310ede512",
   "metadata": {},
   "outputs": [
    {
     "data": {
      "text/plain": [
       "Index(['Id', 'EmployeeName', 'JobTitle', 'BasePay', 'OvertimePay', 'OtherPay',\n",
       "       'Benefits', 'TotalPay', 'TotalPayBenefits', 'Year', 'Notes', 'Agency',\n",
       "       'Status'],\n",
       "      dtype='object')"
      ]
     },
     "execution_count": 118,
     "metadata": {},
     "output_type": "execute_result"
    }
   ],
   "source": [
    "salaries.columns"
   ]
  },
  {
   "cell_type": "code",
   "execution_count": 121,
   "id": "21958120-591d-4854-853d-834aeb4c2f57",
   "metadata": {},
   "outputs": [
    {
     "data": {
      "text/html": [
       "<div>\n",
       "<style scoped>\n",
       "    .dataframe tbody tr th:only-of-type {\n",
       "        vertical-align: middle;\n",
       "    }\n",
       "\n",
       "    .dataframe tbody tr th {\n",
       "        vertical-align: top;\n",
       "    }\n",
       "\n",
       "    .dataframe thead th {\n",
       "        text-align: right;\n",
       "    }\n",
       "</style>\n",
       "<table border=\"1\" class=\"dataframe\">\n",
       "  <thead>\n",
       "    <tr style=\"text-align: right;\">\n",
       "      <th></th>\n",
       "      <th>Id</th>\n",
       "      <th>EmployeeName</th>\n",
       "      <th>JobTitle</th>\n",
       "      <th>BasePay</th>\n",
       "      <th>OvertimePay</th>\n",
       "      <th>OtherPay</th>\n",
       "      <th>Benefits</th>\n",
       "      <th>TotalPay</th>\n",
       "      <th>TotalPayBenefits</th>\n",
       "      <th>Year</th>\n",
       "      <th>Notes</th>\n",
       "      <th>Agency</th>\n",
       "      <th>Status</th>\n",
       "    </tr>\n",
       "  </thead>\n",
       "  <tbody>\n",
       "    <tr>\n",
       "      <th>36519</th>\n",
       "      <td>36520</td>\n",
       "      <td>Albert Pardini</td>\n",
       "      <td>Captain 3</td>\n",
       "      <td>196265.04</td>\n",
       "      <td>0.0</td>\n",
       "      <td>11404.04</td>\n",
       "      <td>46326.21</td>\n",
       "      <td>207669.08</td>\n",
       "      <td>253995.29</td>\n",
       "      <td>2012</td>\n",
       "      <td>NaN</td>\n",
       "      <td>San Francisco</td>\n",
       "      <td>NaN</td>\n",
       "    </tr>\n",
       "  </tbody>\n",
       "</table>\n",
       "</div>"
      ],
      "text/plain": [
       "          Id    EmployeeName   JobTitle    BasePay OvertimePay  OtherPay  \\\n",
       "36519  36520  Albert Pardini  Captain 3  196265.04         0.0  11404.04   \n",
       "\n",
       "       Benefits   TotalPay  TotalPayBenefits  Year  Notes         Agency  \\\n",
       "36519  46326.21  207669.08         253995.29  2012    NaN  San Francisco   \n",
       "\n",
       "      Status  \n",
       "36519    NaN  "
      ]
     },
     "execution_count": 121,
     "metadata": {},
     "output_type": "execute_result"
    }
   ],
   "source": [
    "salaries[salaries['EmployeeName'] == 'Albert Pardini']"
   ]
  },
  {
   "cell_type": "code",
   "execution_count": 122,
   "id": "ed13bdc8-c54b-4e20-811d-19b464f1119a",
   "metadata": {},
   "outputs": [
    {
     "data": {
      "text/plain": [
       "36519    Captain 3\n",
       "Name: JobTitle, dtype: object"
      ]
     },
     "execution_count": 122,
     "metadata": {},
     "output_type": "execute_result"
    }
   ],
   "source": [
    "salaries[salaries['EmployeeName'] == 'Albert Pardini'] ['JobTitle']"
   ]
  },
  {
   "cell_type": "markdown",
   "id": "7e924055-f570-4a9d-ae7f-450c95ff125c",
   "metadata": {},
   "source": [
    "### 16. How much Albert Pardini make include benefits"
   ]
  },
  {
   "cell_type": "code",
   "execution_count": 125,
   "id": "98fe61ab-e252-471e-a7b5-5a168f182695",
   "metadata": {},
   "outputs": [
    {
     "data": {
      "text/plain": [
       "36519    253995.29\n",
       "Name: TotalPayBenefits, dtype: float64"
      ]
     },
     "execution_count": 125,
     "metadata": {},
     "output_type": "execute_result"
    }
   ],
   "source": [
    "salaries[salaries['EmployeeName']=='Albert Pardini'] ['TotalPayBenefits']"
   ]
  },
  {
   "cell_type": "markdown",
   "id": "2d899195-255e-46d3-9423-e675e2508be9",
   "metadata": {},
   "source": [
    "### 17. Display name of the person having the highest BasePay"
   ]
  },
  {
   "cell_type": "code",
   "execution_count": 142,
   "id": "a0fdf262-0765-4d20-80fc-7500b025e3ea",
   "metadata": {},
   "outputs": [
    {
     "data": {
      "text/html": [
       "<div>\n",
       "<style scoped>\n",
       "    .dataframe tbody tr th:only-of-type {\n",
       "        vertical-align: middle;\n",
       "    }\n",
       "\n",
       "    .dataframe tbody tr th {\n",
       "        vertical-align: top;\n",
       "    }\n",
       "\n",
       "    .dataframe thead th {\n",
       "        text-align: right;\n",
       "    }\n",
       "</style>\n",
       "<table border=\"1\" class=\"dataframe\">\n",
       "  <thead>\n",
       "    <tr style=\"text-align: right;\">\n",
       "      <th></th>\n",
       "      <th>EmployeeName</th>\n",
       "      <th>JobTitle</th>\n",
       "      <th>BasePay</th>\n",
       "      <th>OvertimePay</th>\n",
       "      <th>OtherPay</th>\n",
       "      <th>Benefits</th>\n",
       "      <th>TotalPay</th>\n",
       "      <th>TotalPayBenefits</th>\n",
       "      <th>Year</th>\n",
       "    </tr>\n",
       "  </thead>\n",
       "  <tbody>\n",
       "    <tr>\n",
       "      <th>72925</th>\n",
       "      <td>Gregory P Suhr</td>\n",
       "      <td>Chief of Police</td>\n",
       "      <td>319275</td>\n",
       "      <td>0.0</td>\n",
       "      <td>20007.06</td>\n",
       "      <td>86533.21</td>\n",
       "      <td>339282.07</td>\n",
       "      <td>425815.28</td>\n",
       "      <td>2013</td>\n",
       "    </tr>\n",
       "  </tbody>\n",
       "</table>\n",
       "</div>"
      ],
      "text/plain": [
       "         EmployeeName         JobTitle  BasePay OvertimePay  OtherPay  \\\n",
       "72925  Gregory P Suhr  Chief of Police   319275         0.0  20007.06   \n",
       "\n",
       "       Benefits   TotalPay  TotalPayBenefits  Year  \n",
       "72925  86533.21  339282.07         425815.28  2013  "
      ]
     },
     "execution_count": 142,
     "metadata": {},
     "output_type": "execute_result"
    }
   ],
   "source": [
    "sal_drop[sal_drop['BasePay'].max()==sal_drop['BasePay']]"
   ]
  },
  {
   "cell_type": "code",
   "execution_count": 145,
   "id": "0b289cea-cd8b-4b5f-b76c-a4e1010cbbe2",
   "metadata": {},
   "outputs": [
    {
     "data": {
      "text/html": [
       "<div>\n",
       "<style scoped>\n",
       "    .dataframe tbody tr th:only-of-type {\n",
       "        vertical-align: middle;\n",
       "    }\n",
       "\n",
       "    .dataframe tbody tr th {\n",
       "        vertical-align: top;\n",
       "    }\n",
       "\n",
       "    .dataframe thead th {\n",
       "        text-align: right;\n",
       "    }\n",
       "</style>\n",
       "<table border=\"1\" class=\"dataframe\">\n",
       "  <thead>\n",
       "    <tr style=\"text-align: right;\">\n",
       "      <th></th>\n",
       "      <th>EmployeeName</th>\n",
       "      <th>JobTitle</th>\n",
       "    </tr>\n",
       "  </thead>\n",
       "  <tbody>\n",
       "    <tr>\n",
       "      <th>72925</th>\n",
       "      <td>Gregory P Suhr</td>\n",
       "      <td>Chief of Police</td>\n",
       "    </tr>\n",
       "  </tbody>\n",
       "</table>\n",
       "</div>"
      ],
      "text/plain": [
       "         EmployeeName         JobTitle\n",
       "72925  Gregory P Suhr  Chief of Police"
      ]
     },
     "execution_count": 145,
     "metadata": {},
     "output_type": "execute_result"
    }
   ],
   "source": [
    "sal_drop[sal_drop['BasePay'].max()==sal_drop['BasePay']] [['EmployeeName','JobTitle']]"
   ]
  },
  {
   "cell_type": "markdown",
   "id": "4e1f4e3e-f241-437a-b343-0657d5cc513c",
   "metadata": {},
   "source": [
    "### 18. Find the average base pay of all Employees per year"
   ]
  },
  {
   "cell_type": "code",
   "execution_count": 148,
   "id": "905a6efa-72e8-4292-a7f2-dabc60c1ece3",
   "metadata": {},
   "outputs": [
    {
     "data": {
      "text/plain": [
       "Index(['EmployeeName', 'JobTitle', 'BasePay', 'OvertimePay', 'OtherPay',\n",
       "       'Benefits', 'TotalPay', 'TotalPayBenefits', 'Year'],\n",
       "      dtype='object')"
      ]
     },
     "execution_count": 148,
     "metadata": {},
     "output_type": "execute_result"
    }
   ],
   "source": [
    "sal_drop.columns"
   ]
  },
  {
   "cell_type": "code",
   "execution_count": 152,
   "id": "732121e3-0382-48e0-a3e1-b466b8117cb4",
   "metadata": {},
   "outputs": [
    {
     "data": {
      "text/html": [
       "<div>\n",
       "<style scoped>\n",
       "    .dataframe tbody tr th:only-of-type {\n",
       "        vertical-align: middle;\n",
       "    }\n",
       "\n",
       "    .dataframe tbody tr th {\n",
       "        vertical-align: top;\n",
       "    }\n",
       "\n",
       "    .dataframe thead th {\n",
       "        text-align: right;\n",
       "    }\n",
       "</style>\n",
       "<table border=\"1\" class=\"dataframe\">\n",
       "  <thead>\n",
       "    <tr style=\"text-align: right;\">\n",
       "      <th></th>\n",
       "      <th>BasePay</th>\n",
       "      <th>TotalPay</th>\n",
       "      <th>TotalPayBenefits</th>\n",
       "    </tr>\n",
       "    <tr>\n",
       "      <th>Year</th>\n",
       "      <th></th>\n",
       "      <th></th>\n",
       "      <th></th>\n",
       "    </tr>\n",
       "  </thead>\n",
       "  <tbody>\n",
       "    <tr>\n",
       "      <th>2011</th>\n",
       "      <td>63595.525872</td>\n",
       "      <td>71744.103871</td>\n",
       "      <td>71744.103871</td>\n",
       "    </tr>\n",
       "    <tr>\n",
       "      <th>2012</th>\n",
       "      <td>65435.992819</td>\n",
       "      <td>74113.262265</td>\n",
       "      <td>100553.229232</td>\n",
       "    </tr>\n",
       "    <tr>\n",
       "      <th>2013</th>\n",
       "      <td>69629.661009</td>\n",
       "      <td>78808.285041</td>\n",
       "      <td>102939.981346</td>\n",
       "    </tr>\n",
       "    <tr>\n",
       "      <th>2014</th>\n",
       "      <td>66564.085390</td>\n",
       "      <td>75471.836912</td>\n",
       "      <td>100261.438668</td>\n",
       "    </tr>\n",
       "  </tbody>\n",
       "</table>\n",
       "</div>"
      ],
      "text/plain": [
       "           BasePay      TotalPay  TotalPayBenefits\n",
       "Year                                              \n",
       "2011  63595.525872  71744.103871      71744.103871\n",
       "2012  65435.992819  74113.262265     100553.229232\n",
       "2013  69629.661009  78808.285041     102939.981346\n",
       "2014  66564.085390  75471.836912     100261.438668"
      ]
     },
     "execution_count": 152,
     "metadata": {},
     "output_type": "execute_result"
    }
   ],
   "source": [
    "sal_drop.groupby('Year').mean('BasePay')"
   ]
  },
  {
   "cell_type": "markdown",
   "id": "32e0516f-53d3-4334-a9b0-d94d2634384e",
   "metadata": {},
   "source": [
    "### 19. Find the average base pay of all Employees per JobTitle"
   ]
  },
  {
   "cell_type": "code",
   "execution_count": 156,
   "id": "08b6e361-0bf6-4961-b1c9-ad3072ad0d4f",
   "metadata": {},
   "outputs": [
    {
     "data": {
      "text/plain": [
       "EmployeeName         object\n",
       "JobTitle             object\n",
       "BasePay               int64\n",
       "OvertimePay          object\n",
       "OtherPay             object\n",
       "Benefits             object\n",
       "TotalPay            float64\n",
       "TotalPayBenefits    float64\n",
       "Year                  int64\n",
       "dtype: object"
      ]
     },
     "execution_count": 156,
     "metadata": {},
     "output_type": "execute_result"
    }
   ],
   "source": [
    "sal_drop.dtypes"
   ]
  },
  {
   "cell_type": "code",
   "execution_count": 159,
   "id": "bec057f4-d0bb-40c4-8c15-a484d6326938",
   "metadata": {},
   "outputs": [
    {
     "data": {
      "text/html": [
       "<div>\n",
       "<style scoped>\n",
       "    .dataframe tbody tr th:only-of-type {\n",
       "        vertical-align: middle;\n",
       "    }\n",
       "\n",
       "    .dataframe tbody tr th {\n",
       "        vertical-align: top;\n",
       "    }\n",
       "\n",
       "    .dataframe thead th {\n",
       "        text-align: right;\n",
       "    }\n",
       "</style>\n",
       "<table border=\"1\" class=\"dataframe\">\n",
       "  <thead>\n",
       "    <tr style=\"text-align: right;\">\n",
       "      <th></th>\n",
       "      <th>BasePay</th>\n",
       "      <th>TotalPay</th>\n",
       "      <th>TotalPayBenefits</th>\n",
       "      <th>Year</th>\n",
       "    </tr>\n",
       "    <tr>\n",
       "      <th>JobTitle</th>\n",
       "      <th></th>\n",
       "      <th></th>\n",
       "      <th></th>\n",
       "      <th></th>\n",
       "    </tr>\n",
       "  </thead>\n",
       "  <tbody>\n",
       "    <tr>\n",
       "      <th>ACCOUNT CLERK</th>\n",
       "      <td>43300.144578</td>\n",
       "      <td>44035.664337</td>\n",
       "      <td>44035.664337</td>\n",
       "      <td>2011.00</td>\n",
       "    </tr>\n",
       "    <tr>\n",
       "      <th>ACCOUNTANT</th>\n",
       "      <td>46643.000000</td>\n",
       "      <td>47429.268000</td>\n",
       "      <td>47429.268000</td>\n",
       "      <td>2011.00</td>\n",
       "    </tr>\n",
       "    <tr>\n",
       "      <th>ACCOUNTANT INTERN</th>\n",
       "      <td>28732.229167</td>\n",
       "      <td>29031.742917</td>\n",
       "      <td>29031.742917</td>\n",
       "      <td>2011.00</td>\n",
       "    </tr>\n",
       "    <tr>\n",
       "      <th>ACPO,JuvP, Juv Prob (SFERS)</th>\n",
       "      <td>62290.000000</td>\n",
       "      <td>62290.780000</td>\n",
       "      <td>80266.370000</td>\n",
       "      <td>2014.00</td>\n",
       "    </tr>\n",
       "    <tr>\n",
       "      <th>ACUPUNCTURIST</th>\n",
       "      <td>66374.000000</td>\n",
       "      <td>67594.400000</td>\n",
       "      <td>67594.400000</td>\n",
       "      <td>2011.00</td>\n",
       "    </tr>\n",
       "    <tr>\n",
       "      <th>...</th>\n",
       "      <td>...</td>\n",
       "      <td>...</td>\n",
       "      <td>...</td>\n",
       "      <td>...</td>\n",
       "    </tr>\n",
       "    <tr>\n",
       "      <th>X-RAY LABORATORY AIDE</th>\n",
       "      <td>47664.230769</td>\n",
       "      <td>52705.880385</td>\n",
       "      <td>52705.880385</td>\n",
       "      <td>2011.00</td>\n",
       "    </tr>\n",
       "    <tr>\n",
       "      <th>X-Ray Laboratory Aide</th>\n",
       "      <td>46085.970000</td>\n",
       "      <td>50823.942700</td>\n",
       "      <td>69521.123200</td>\n",
       "      <td>2013.04</td>\n",
       "    </tr>\n",
       "    <tr>\n",
       "      <th>YOUTH COMMISSION ADVISOR, BOARD OF SUPERVISORS</th>\n",
       "      <td>52609.000000</td>\n",
       "      <td>53632.870000</td>\n",
       "      <td>53632.870000</td>\n",
       "      <td>2011.00</td>\n",
       "    </tr>\n",
       "    <tr>\n",
       "      <th>Youth Comm Advisor</th>\n",
       "      <td>39077.250000</td>\n",
       "      <td>41414.307500</td>\n",
       "      <td>60118.550000</td>\n",
       "      <td>2013.00</td>\n",
       "    </tr>\n",
       "    <tr>\n",
       "      <th>ZOO CURATOR</th>\n",
       "      <td>43148.000000</td>\n",
       "      <td>66686.560000</td>\n",
       "      <td>66686.560000</td>\n",
       "      <td>2011.00</td>\n",
       "    </tr>\n",
       "  </tbody>\n",
       "</table>\n",
       "<p>2154 rows × 4 columns</p>\n",
       "</div>"
      ],
      "text/plain": [
       "                                                     BasePay      TotalPay  \\\n",
       "JobTitle                                                                     \n",
       "ACCOUNT CLERK                                   43300.144578  44035.664337   \n",
       "ACCOUNTANT                                      46643.000000  47429.268000   \n",
       "ACCOUNTANT INTERN                               28732.229167  29031.742917   \n",
       "ACPO,JuvP, Juv Prob (SFERS)                     62290.000000  62290.780000   \n",
       "ACUPUNCTURIST                                   66374.000000  67594.400000   \n",
       "...                                                      ...           ...   \n",
       "X-RAY LABORATORY AIDE                           47664.230769  52705.880385   \n",
       "X-Ray Laboratory Aide                           46085.970000  50823.942700   \n",
       "YOUTH COMMISSION ADVISOR, BOARD OF SUPERVISORS  52609.000000  53632.870000   \n",
       "Youth Comm Advisor                              39077.250000  41414.307500   \n",
       "ZOO CURATOR                                     43148.000000  66686.560000   \n",
       "\n",
       "                                                TotalPayBenefits     Year  \n",
       "JobTitle                                                                   \n",
       "ACCOUNT CLERK                                       44035.664337  2011.00  \n",
       "ACCOUNTANT                                          47429.268000  2011.00  \n",
       "ACCOUNTANT INTERN                                   29031.742917  2011.00  \n",
       "ACPO,JuvP, Juv Prob (SFERS)                         80266.370000  2014.00  \n",
       "ACUPUNCTURIST                                       67594.400000  2011.00  \n",
       "...                                                          ...      ...  \n",
       "X-RAY LABORATORY AIDE                               52705.880385  2011.00  \n",
       "X-Ray Laboratory Aide                               69521.123200  2013.04  \n",
       "YOUTH COMMISSION ADVISOR, BOARD OF SUPERVISORS      53632.870000  2011.00  \n",
       "Youth Comm Advisor                                  60118.550000  2013.00  \n",
       "ZOO CURATOR                                         66686.560000  2011.00  \n",
       "\n",
       "[2154 rows x 4 columns]"
      ]
     },
     "execution_count": 159,
     "metadata": {},
     "output_type": "execute_result"
    }
   ],
   "source": [
    "sal_drop.groupby('JobTitle').mean('BasePay')"
   ]
  },
  {
   "cell_type": "code",
   "execution_count": 162,
   "id": "9f062079-6925-4fc2-b529-3e33a1602b11",
   "metadata": {},
   "outputs": [],
   "source": [
    "# Group by JobTitle and calculate the mean of BasePay\n",
    "mean_base_pay = sal_drop.groupby('JobTitle')['BasePay'].mean()"
   ]
  },
  {
   "cell_type": "code",
   "execution_count": 161,
   "id": "215f2a1e-b104-45bf-a1b6-7d2e6d945450",
   "metadata": {},
   "outputs": [
    {
     "data": {
      "text/plain": [
       "JobTitle\n",
       "ACCOUNT CLERK                                     43300.144578\n",
       "ACCOUNTANT                                        46643.000000\n",
       "ACCOUNTANT INTERN                                 28732.229167\n",
       "ACPO,JuvP, Juv Prob (SFERS)                       62290.000000\n",
       "ACUPUNCTURIST                                     66374.000000\n",
       "                                                      ...     \n",
       "X-RAY LABORATORY AIDE                             47664.230769\n",
       "X-Ray Laboratory Aide                             46085.970000\n",
       "YOUTH COMMISSION ADVISOR, BOARD OF SUPERVISORS    52609.000000\n",
       "Youth Comm Advisor                                39077.250000\n",
       "ZOO CURATOR                                       43148.000000\n",
       "Name: BasePay, Length: 2154, dtype: float64"
      ]
     },
     "execution_count": 161,
     "metadata": {},
     "output_type": "execute_result"
    }
   ],
   "source": [
    "mean_base_pay"
   ]
  },
  {
   "cell_type": "markdown",
   "id": "9842fa15-0564-4ccc-a49b-99667501c1f0",
   "metadata": {},
   "source": [
    "### 20. Find average BasePay of Employee having Job title ACCOUNTANT"
   ]
  },
  {
   "cell_type": "code",
   "execution_count": 166,
   "id": "1b9069b3-95c8-42d6-a693-a8c423e5af67",
   "metadata": {},
   "outputs": [
    {
     "data": {
      "text/plain": [
       "Index(['EmployeeName', 'JobTitle', 'BasePay', 'OvertimePay', 'OtherPay',\n",
       "       'Benefits', 'TotalPay', 'TotalPayBenefits', 'Year'],\n",
       "      dtype='object')"
      ]
     },
     "execution_count": 166,
     "metadata": {},
     "output_type": "execute_result"
    }
   ],
   "source": [
    "sal_drop.columns"
   ]
  },
  {
   "cell_type": "code",
   "execution_count": 171,
   "id": "40253d52-5015-4fd2-92b4-6396e715a658",
   "metadata": {},
   "outputs": [
    {
     "data": {
      "text/html": [
       "<div>\n",
       "<style scoped>\n",
       "    .dataframe tbody tr th:only-of-type {\n",
       "        vertical-align: middle;\n",
       "    }\n",
       "\n",
       "    .dataframe tbody tr th {\n",
       "        vertical-align: top;\n",
       "    }\n",
       "\n",
       "    .dataframe thead th {\n",
       "        text-align: right;\n",
       "    }\n",
       "</style>\n",
       "<table border=\"1\" class=\"dataframe\">\n",
       "  <thead>\n",
       "    <tr style=\"text-align: right;\">\n",
       "      <th></th>\n",
       "      <th>EmployeeName</th>\n",
       "      <th>JobTitle</th>\n",
       "      <th>BasePay</th>\n",
       "      <th>OvertimePay</th>\n",
       "      <th>OtherPay</th>\n",
       "      <th>Benefits</th>\n",
       "      <th>TotalPay</th>\n",
       "      <th>TotalPayBenefits</th>\n",
       "      <th>Year</th>\n",
       "    </tr>\n",
       "  </thead>\n",
       "  <tbody>\n",
       "    <tr>\n",
       "      <th>19263</th>\n",
       "      <td>CARLITO NEPACENA</td>\n",
       "      <td>ACCOUNTANT</td>\n",
       "      <td>65392</td>\n",
       "      <td>0.0</td>\n",
       "      <td>0.0</td>\n",
       "      <td>NaN</td>\n",
       "      <td>65392.01</td>\n",
       "      <td>65392.01</td>\n",
       "      <td>2011</td>\n",
       "    </tr>\n",
       "    <tr>\n",
       "      <th>19324</th>\n",
       "      <td>ROSALINDA TAN</td>\n",
       "      <td>ACCOUNTANT</td>\n",
       "      <td>65225</td>\n",
       "      <td>0.0</td>\n",
       "      <td>0.0</td>\n",
       "      <td>NaN</td>\n",
       "      <td>65225.31</td>\n",
       "      <td>65225.31</td>\n",
       "      <td>2011</td>\n",
       "    </tr>\n",
       "    <tr>\n",
       "      <th>20992</th>\n",
       "      <td>NELSON ALVARADO</td>\n",
       "      <td>ACCOUNTANT</td>\n",
       "      <td>60076</td>\n",
       "      <td>0.0</td>\n",
       "      <td>0.0</td>\n",
       "      <td>NaN</td>\n",
       "      <td>60076.24</td>\n",
       "      <td>60076.24</td>\n",
       "      <td>2011</td>\n",
       "    </tr>\n",
       "    <tr>\n",
       "      <th>25927</th>\n",
       "      <td>JEANETTE COOPER</td>\n",
       "      <td>ACCOUNTANT</td>\n",
       "      <td>42522</td>\n",
       "      <td>0.0</td>\n",
       "      <td>2782.08</td>\n",
       "      <td>NaN</td>\n",
       "      <td>45304.38</td>\n",
       "      <td>45304.38</td>\n",
       "      <td>2011</td>\n",
       "    </tr>\n",
       "    <tr>\n",
       "      <th>35285</th>\n",
       "      <td>CESAR PALARCA</td>\n",
       "      <td>ACCOUNTANT</td>\n",
       "      <td>0</td>\n",
       "      <td>0.0</td>\n",
       "      <td>1148.4</td>\n",
       "      <td>NaN</td>\n",
       "      <td>1148.40</td>\n",
       "      <td>1148.40</td>\n",
       "      <td>2011</td>\n",
       "    </tr>\n",
       "  </tbody>\n",
       "</table>\n",
       "</div>"
      ],
      "text/plain": [
       "           EmployeeName    JobTitle  BasePay OvertimePay OtherPay Benefits  \\\n",
       "19263  CARLITO NEPACENA  ACCOUNTANT    65392         0.0      0.0      NaN   \n",
       "19324     ROSALINDA TAN  ACCOUNTANT    65225         0.0      0.0      NaN   \n",
       "20992   NELSON ALVARADO  ACCOUNTANT    60076         0.0      0.0      NaN   \n",
       "25927   JEANETTE COOPER  ACCOUNTANT    42522         0.0  2782.08      NaN   \n",
       "35285     CESAR PALARCA  ACCOUNTANT        0         0.0   1148.4      NaN   \n",
       "\n",
       "       TotalPay  TotalPayBenefits  Year  \n",
       "19263  65392.01          65392.01  2011  \n",
       "19324  65225.31          65225.31  2011  \n",
       "20992  60076.24          60076.24  2011  \n",
       "25927  45304.38          45304.38  2011  \n",
       "35285   1148.40           1148.40  2011  "
      ]
     },
     "execution_count": 171,
     "metadata": {},
     "output_type": "execute_result"
    }
   ],
   "source": [
    "sal_drop[sal_drop['JobTitle']=='ACCOUNTANT']"
   ]
  },
  {
   "cell_type": "code",
   "execution_count": 173,
   "id": "f6cc065b-023a-499c-9407-a69dbf17ac84",
   "metadata": {},
   "outputs": [
    {
     "data": {
      "text/plain": [
       "46643.0"
      ]
     },
     "execution_count": 173,
     "metadata": {},
     "output_type": "execute_result"
    }
   ],
   "source": [
    "sal_drop[sal_drop['JobTitle']=='ACCOUNTANT']['BasePay'].mean()"
   ]
  },
  {
   "cell_type": "markdown",
   "id": "73e98757-a147-4c15-ad31-c04f98a898fa",
   "metadata": {},
   "source": [
    "### 21. Find top 5 most common jobs"
   ]
  },
  {
   "cell_type": "code",
   "execution_count": 177,
   "id": "0dd911f3-6121-400f-94a7-77bbb7bce38c",
   "metadata": {},
   "outputs": [
    {
     "data": {
      "text/plain": [
       "JobTitle\n",
       "Transit Operator                6975\n",
       "Special Nurse                   4382\n",
       "Registered Nurse                3725\n",
       "Public Svc Aide-Public Works    2514\n",
       "Police Officer 3                2411\n",
       "Name: count, dtype: int64"
      ]
     },
     "execution_count": 177,
     "metadata": {},
     "output_type": "execute_result"
    }
   ],
   "source": [
    "sal_drop['JobTitle'].value_counts().head(5)"
   ]
  },
  {
   "cell_type": "code",
   "execution_count": null,
   "id": "578f9d86-f35d-4b1e-b9d3-12b6ba83f571",
   "metadata": {},
   "outputs": [],
   "source": []
  }
 ],
 "metadata": {
  "kernelspec": {
   "display_name": "Python 3 (ipykernel)",
   "language": "python",
   "name": "python3"
  },
  "language_info": {
   "codemirror_mode": {
    "name": "ipython",
    "version": 3
   },
   "file_extension": ".py",
   "mimetype": "text/x-python",
   "name": "python",
   "nbconvert_exporter": "python",
   "pygments_lexer": "ipython3",
   "version": "3.12.7"
  }
 },
 "nbformat": 4,
 "nbformat_minor": 5
}
